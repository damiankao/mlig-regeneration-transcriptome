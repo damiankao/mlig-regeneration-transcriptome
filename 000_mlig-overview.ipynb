{
 "metadata": {
  "name": "",
  "signature": "sha256:bdfd35148a3b46d26fa3aac893e2bf265e82dbf95e6b10abd6924a5a234b0c55"
 },
 "nbformat": 3,
 "nbformat_minor": 0,
 "worksheets": [
  {
   "cells": [
    {
     "cell_type": "markdown",
     "metadata": {},
     "source": [
      "# M. Lignano transcriptome\n",
      "\n",
      "## Assembly\n",
      "\n",
      "### Input data\n",
      "\n",
      " - **Stranded vs unstranded** - assembled stranded pilot studies as stranded/unstranded. Assemble with default parameters. Map stranded reads back to assembly and check orientation errors.\n",
      " \n",
      " - **Number of reads** - Number of inchworm contigs vs number of reads. Use SE data. ??\n",
      " \n",
      "### Chrysalis\n",
      "\n",
      " - **Jaccard clipping** - Does it make a difference? Assemble stranded with jaccard and without. Blast annotate and calculate fusion score.\n",
      "\n",
      "### Butterfly\n",
      " \n",
      " - **Pasafly vs cuffly vs default** - How do different path traversal algorithms compare?\n",
      " - **Path reinforcement distance in default settings** - Can you get a more strict set of transcripts by setting this high?\n",
      " \n",
      "### Consolidation\n",
      "\n",
      " - **Corset consolidation** Use corset to consolidate assemblies with different traversals. For each group choose the best representatives based on priority: pfam, blast, orf, gene potential,\n",
      " \n",
      "## Method\n",
      "\n",
      " 1. Consolidate all reads. Shuffle all reads. For every 100 million reads, perform an inchworm assembly. \n",
      " \n",
      " 2. Map pair-end reads back to one of the inchworm contigs to confirm pair-end distances.\n",
      "\n",
      " 3. Assemble: \n",
      "  - stranded libraries + stranded, default settings\n",
      "  - stranded libraries + unstranded, default settings\n",
      "  - stranded libraries + stranded, jaccard on, default settings\n",
      " \n",
      " 4. Use the stranded default assembly, perform Pasafly, cuffly, butterfly on 50, 100, 150, 200, 250, 300 path reinforcement (18 combinations). Observe: number of genes, number of isoforms, minimum length of isoforms in genes, maximum length of isoforms in genes, cd-hit redundancy\n",
      " \n",
      " 5. Use optimal parameters found above for strandness, jaccard, read number, path reincorcement settings, perform a final assembly with parafly, cuffly, and butterfly. Use corset to group transcripts into groups based on read sharing. For each group find non-redundant transcripts with: pfam, blast, orf, gene potential. \n",
      " \n",
      " 6. Use Velvet + Oases on all reads on 25-43 k length with step of 4\n",
      " \n",
      " 7. Use Soap-denovo-trans on all reads on k length of 25, 31, 35, 39\n",
      " \n",
      "## Transcriptome analysis\n",
      "\n",
      "### Blast annotations with Uniprot metazoa\n",
      "\n",
      "### PFAM annotations\n"
     ]
    },
    {
     "cell_type": "code",
     "collapsed": false,
     "input": [],
     "language": "python",
     "metadata": {},
     "outputs": []
    }
   ],
   "metadata": {}
  }
 ]
}