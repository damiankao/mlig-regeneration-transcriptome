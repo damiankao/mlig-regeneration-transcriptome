{
 "metadata": {
  "name": "",
  "signature": "sha256:5229029076626f3a57b95e34b56dd40640d2a37c0621ac18e785a47ce0f8ecfe"
 },
 "nbformat": 3,
 "nbformat_minor": 0,
 "worksheets": [
  {
   "cells": [
    {
     "cell_type": "markdown",
     "metadata": {},
     "source": [
      "# Trinity assembly\n",
      "\n",
      "The goal is to produce 4 variations of the assembly testing strandedness and Jaccard clipping. All input files are stranded. The following commands will be used:\n",
      "\n",
      " 1. Stranded assembly \n",
      " \n",
      "        Trinity --seqType fq --JM 50G --left /mlig_working/reads/left.stranded.fastq --right /mlig_working/reads/right.stranded.fastq --CPU 32 --SS_lib_type FR \n",
      "    \n",
      " 2. Stranded assembly with Jaccard clipping\n",
      " \n",
      "        Trinity --seqType fq --JM 50G --left /mlig_working/reads/left.stranded.fastq --right /mlig_working/reads/right.stranded.fastq --CPU 32 --SS_lib_type FR --jaccard_clip\n",
      "    \n",
      " 3. Unstranded assembly\n",
      " \n",
      "        Trinity --seqType fq --JM 50G --left /mlig_working/reads/left.stranded.fastq --right /mlig_working/reads/right.stranded.fastq --CPU 32 \n",
      "        \n",
      " 4. Unstranded assembly with Jaccard clipping\n",
      " \n",
      "        Trinity --seqType fq --JM 50G --left /mlig_working/reads/left.stranded.fastq --right /mlig_working/reads/right.stranded.fastq --CPU 32 --jaccard_clip\n",
      "        \n",
      "I will also test out the three methods of graph path traversals:\n",
      "\n",
      " 1. Default trinity (ButterFly)\n",
      " \n",
      "        java -Xmx10G -Xms1G -XX:ParallelGCThreads=2 -jar Butterfly.jar -N 100000 -L 200 -F 500 -C /mlig_working/trinity_out_dir/chrysalis/Component_bins/Cbin0/c3.graph --path_reinforcement_distance=75 --triplet-lock  --EM_REDUCE \n",
      " \n",
      " 2. PasaFly which is based on the PASA algorithm\n",
      " \n",
      "        java -Xmx10G -Xms1G -XX:ParallelGCThreads=2 -jar Butterfly.jar -N 100000 -L 200 -F 500 -C /mlig_working/trinity_out_dir/chrysalis/Component_bins/Cbin0/c3.graph --path_reinforcement_distance=75 --triplet-lock  --EM_REDUCE --PasaFly\n",
      " \n",
      " 3. CuffFly which is based on the Cufflinks algorithm\n",
      " \n",
      "        java -Xmx10G -Xms1G -XX:ParallelGCThreads=2 -jar Butterfly.jar -N 100000 -L 200 -F 500 -C /mlig_working/trinity_out_dir/chrysalis/Component_bins/Cbin0/c3.graph --path_reinforcement_distance=75 --triplet-lock  --EM_REDUCE --CuffFly"
     ]
    },
    {
     "cell_type": "code",
     "collapsed": false,
     "input": [
      "import gzip, os, sys\n",
      "#import custom functions for displaying tables, bash commands\n",
      "sys.path.append(os.path.abspath(\"/home/damian/\"))\n",
      "from dk_ipython import *\n",
      "from IPython.display import HTML\n",
      "import json"
     ],
     "language": "python",
     "metadata": {},
     "outputs": [],
     "prompt_number": 2
    },
    {
     "cell_type": "code",
     "collapsed": false,
     "input": [
      "HTML(textarea('EC2 setup bash script','''sudo apt-get update\n",
      "sudo apt-get install -y make g++ zlib1g-dev default-jre default-jdk unzip ncurses-dev git\n",
      "curl -o trinity.tar.gz -L http://sourceforge.net/projects/trinityrnaseq/files/latest/download?source=files\n",
      "curl -o bowtie.zip -L http://sourceforge.net/projects/bowtie-bio/files/bowtie/1.0.1/bowtie-1.0.1-linux-x86_64.zip/download\n",
      "curl -o samtools.tar.bz2 -L http://sourceforge.net/projects/samtools/files/latest/download?source=files\n",
      "wget ftp://ftp.genome.umd.edu/pub/jellyfish/jellyfish-2.1.3.tar.gz\n",
      "curl -o soap.tar.gz -L http://sourceforge.net/projects/soapdenovotrans/files/latest/download?source=files\n",
      "tar -xvf trinity.tar.gz\n",
      "rm trinity.tar.gz\n",
      "mv trinity* trinity\n",
      "unzip bowtie.zip\n",
      "rm bowtie.zip\n",
      "mv bowtie* bowtie\n",
      "tar -xvjf samtools.tar.bz2\n",
      "rm samtools.tar.bz2\n",
      "mv samtools* samtools\n",
      "tar -xvf jellyfish-2.1.3.tar.gz\n",
      "rm jellyfish-2.1.3.tar.gz\n",
      "mv jellyfish* jellyfish\n",
      "mkdir soap\n",
      "mv soap.tar.gz soap\n",
      "cd soap\n",
      "tar -xvf soap.tar.gz\n",
      "cd ..\n",
      "git clone https://github.com/dzerbino/velvet.git\n",
      "git clone https://github.com/dzerbino/oases.git\n",
      "cd jellyfish\n",
      "./configure\n",
      "make\n",
      "cd ..\n",
      "cd samtools\n",
      "make\n",
      "cd ..\n",
      "cd trinity\n",
      "make\n",
      "cd velvet\n",
      "make OPENMP=1 MAXKMERLENGTH=70 CATEGORIES=10\n",
      "cd ../oases\n",
      "make VELVET_DIR=/software/velvet OPENMP=1 MAXKMERLENGTH=70 CATEGORIES=10\n",
      "cd ..\n",
      "echo 'export PATH=/software/sga/sga/src/bin:/software/bowtie2:/software/jellyfish/bin:/software/trinity/Inchworm/bin:/software/bowtie:/software/samtools/:/software/trinity:/software/velvet:/software/oases:/software/soap:$PATH' >> ~/.bashrc\n",
      "source ~/.bashrc'''))"
     ],
     "language": "python",
     "metadata": {},
     "outputs": [
      {
       "html": [
        "<b>EC2 setup bash script</b>:<br>\n",
        "<textarea style=\"width: 1000px; height:200px\">\n",
        "sudo apt-get update\n",
        "sudo apt-get install -y make g++ zlib1g-dev default-jre default-jdk unzip ncurses-dev git\n",
        "curl -o trinity.tar.gz -L http://sourceforge.net/projects/trinityrnaseq/files/latest/download?source=files\n",
        "curl -o bowtie.zip -L http://sourceforge.net/projects/bowtie-bio/files/bowtie/1.0.1/bowtie-1.0.1-linux-x86_64.zip/download\n",
        "curl -o samtools.tar.bz2 -L http://sourceforge.net/projects/samtools/files/latest/download?source=files\n",
        "wget ftp://ftp.genome.umd.edu/pub/jellyfish/jellyfish-2.1.3.tar.gz\n",
        "curl -o soap.tar.gz -L http://sourceforge.net/projects/soapdenovotrans/files/latest/download?source=files\n",
        "tar -xvf trinity.tar.gz\n",
        "rm trinity.tar.gz\n",
        "mv trinity* trinity\n",
        "unzip bowtie.zip\n",
        "rm bowtie.zip\n",
        "mv bowtie* bowtie\n",
        "tar -xvjf samtools.tar.bz2\n",
        "rm samtools.tar.bz2\n",
        "mv samtools* samtools\n",
        "tar -xvf jellyfish-2.1.3.tar.gz\n",
        "rm jellyfish-2.1.3.tar.gz\n",
        "mv jellyfish* jellyfish\n",
        "mkdir soap\n",
        "mv soap.tar.gz soap\n",
        "cd soap\n",
        "tar -xvf soap.tar.gz\n",
        "cd ..\n",
        "git clone https://github.com/dzerbino/velvet.git\n",
        "git clone https://github.com/dzerbino/oases.git\n",
        "cd jellyfish\n",
        "./configure\n",
        "make\n",
        "cd ..\n",
        "cd samtools\n",
        "make\n",
        "cd ..\n",
        "cd trinity\n",
        "make\n",
        "cd velvet\n",
        "make OPENMP=1 MAXKMERLENGTH=70 CATEGORIES=10\n",
        "cd ../oases\n",
        "make VELVET_DIR=/software/velvet OPENMP=1 MAXKMERLENGTH=70 CATEGORIES=10\n",
        "cd ..\n",
        "echo 'export PATH=/software/sga/sga/src/bin:/software/bowtie2:/software/jellyfish/bin:/software/trinity/Inchworm/bin:/software/bowtie:/software/samtools/:/software/trinity:/software/velvet:/software/oases:/software/soap:$PATH' >> ~/.bashrc\n",
        "source ~/.bashrc\n",
        "</textarea>"
       ],
       "metadata": {},
       "output_type": "pyout",
       "prompt_number": 3,
       "text": [
        "<IPython.core.display.HTML at 0x1e28c50>"
       ]
      }
     ],
     "prompt_number": 3
    },
    {
     "cell_type": "markdown",
     "metadata": {},
     "source": [
      "### Assembly metrics"
     ]
    },
    {
     "cell_type": "code",
     "collapsed": false,
     "input": [
      "transPep = open('/home/share/projects/mlig_transcriptome/checkJaccard/transdecoder/combined.fasta.transdecoder.pep')\n",
      "\n",
      "jaccardTrans = defaultdict(int)\n",
      "noJaccardTrans = defaultdict(int)\n",
      "\n",
      "for line in transPep:\n",
      "    if line[0] == '>':\n",
      "        tid = line[1:].strip().split('|')[0]\n",
      "        if tid[0] == 'j':\n",
      "            jaccardTrans[tid] += 1\n",
      "        else:\n",
      "            noJaccardTrans[tid] += 1\n",
      "            \n",
      "jaccardTrans = pd.Series(jaccardTrans)\n",
      "noJaccardTrans = pd.Series(noJaccardTrans)"
     ],
     "language": "python",
     "metadata": {},
     "outputs": [],
     "prompt_number": 122
    },
    {
     "cell_type": "code",
     "collapsed": false,
     "input": [
      "fig, axes = plt.subplots(nrows = 1, ncols = 2, figsize=[15,5])\n",
      "jaccardTrans.hist(bins = 12, ax = axes[0])\n",
      "noJaccardTrans.hist(bins = 9, ax = axes[1])\n",
      "\n",
      "axes[0].set_title('Jaccard clipping\\nnumber of peptides predicted per transcript')\n",
      "axes[0].set_xlim(1,10)\n",
      "axes[1].set_title('No Jaccard clipping\\nnumber of peptides predicted per transcript')\n",
      "axes[1].set_xlim(1,10)\n",
      "fig.tight_layout()"
     ],
     "language": "python",
     "metadata": {},
     "outputs": [
      {
       "metadata": {},
       "output_type": "display_data",
       "png": "[encoded data removed]",
       "text": [
        "<matplotlib.figure.Figure at 0x4852ded0>"
       ]
      }
     ],
     "prompt_number": 137
    },
    {
     "cell_type": "markdown",
     "metadata": {},
     "source": [
      "### Butterfly vs CuffFly vs PasaFly\n"
     ]
    },
    {
     "cell_type": "code",
     "collapsed": false,
     "input": [
      "HTML(textarea('Generate CuffFly and PasaFly commands','''import sys,os\n",
      "paths = ['/'.join(x.strip().split()[1].split('/')[-3:]) for x in open(sys.argv[1],'r')]\n",
      "pasa = 'java -Xmx2G -Xms1G -XX:ParallelGCThreads=2 -jar /home/share/software/trinity/Butterfly/Butterfly.jar -N 100000 -L 200 -F 500 -C /home/share/projects/mlig_transcriptome/assembly_stranded/pasafly/__GRAPH__.graph --path_reinforcement_distance=75 --triplet-lock  --EM_REDUCE --PasaFly'\n",
      "cuff = 'java -Xmx2G -Xms1G -XX:ParallelGCThreads=2 -jar /home/share/software/trinity/Butterfly/Butterfly.jar -N 100000 -L 200 -F 500 -C /home/share/projects/mlig_transcriptome/assembly_stranded/cufffly/__GRAPH__.graph --path_reinforcement_distance=75 --triplet-lock  --EM_REDUCE --CuffFly'\n",
      "for path in paths:\n",
      "        print pasa.replace('__GRAPH__',path)\n",
      "        print cuff.replace('__GRAPH__',path)\n",
      "'''))"
     ],
     "language": "python",
     "metadata": {},
     "outputs": [
      {
       "html": [
        "<b>Generate CuffFly and PasaFly commands</b>:<br>\n",
        "<textarea style=\"width: 1000px; height:200px\">\n",
        "import sys,os\n",
        "paths = ['/'.join(x.strip().split()[1].split('/')[-3:]) for x in open(sys.argv[1],'r')]\n",
        "pasa = 'java -Xmx2G -Xms1G -XX:ParallelGCThreads=2 -jar /home/share/software/trinity/Butterfly/Butterfly.jar -N 100000 -L 200 -F 500 -C /home/share/projects/mlig_transcriptome/assembly_stranded/pasafly/__GRAPH__.graph --path_reinforcement_distance=75 --triplet-lock  --EM_REDUCE --PasaFly'\n",
        "cuff = 'java -Xmx2G -Xms1G -XX:ParallelGCThreads=2 -jar /home/share/software/trinity/Butterfly/Butterfly.jar -N 100000 -L 200 -F 500 -C /home/share/projects/mlig_transcriptome/assembly_stranded/cufffly/__GRAPH__.graph --path_reinforcement_distance=75 --triplet-lock  --EM_REDUCE --CuffFly'\n",
        "for path in paths:\n",
        "        print pasa.replace('__GRAPH__',path)\n",
        "        print cuff.replace('__GRAPH__',path)\n",
        "\n",
        "</textarea>"
       ],
       "metadata": {},
       "output_type": "pyout",
       "prompt_number": 138,
       "text": [
        "<IPython.core.display.HTML at 0x480e1d90>"
       ]
      }
     ]
    },
    {
     "cell_type": "code",
     "collapsed": false,
     "input": [],
     "language": "python",
     "metadata": {},
     "outputs": []
    }
   ],
   "metadata": {}
  }
 ]
}