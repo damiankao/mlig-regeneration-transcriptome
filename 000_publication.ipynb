{
 "metadata": {
  "name": "",
  "signature": "sha256:37297b866907c5b4bd42cb01dbcd69824fa5ac58ad156001c10c3791c4195267"
 },
 "nbformat": 3,
 "nbformat_minor": 0,
 "worksheets": [
  {
   "cells": [
    {
     "cell_type": "markdown",
     "metadata": {},
     "source": [
      "# Publication outline\n",
      "\n",
      "### Title page\n",
      "\n",
      "### Abstract\n",
      "\n",
      "### Background\n",
      "\n",
      "### Results and discussion\n",
      "\n",
      "#### Transcriptome assembly overview\n",
      "\n",
      "#### Trinity assemblies\n",
      " 1. Read saturation\n",
      " 2. Strandness\n",
      " 3. Jaccard clipping\n",
      " 4. Path traversal variants (pasafly vs cufffly vs butterfly)\n",
      " \n",
      "#### Velvet and Oasese assemblies\n",
      " 1. K-mer range assemblies\n",
      "\n",
      "#### SOAPDeNovo-Trans assemblies\n",
      " 1. K-mer range assemblies\n",
      "\n",
      "#### Corset clustering of assemblies\n",
      " 1. Cluster results\n",
      " 2. Find best representatives of each cluster\n",
      "\n",
      "#### Transcriptome annotations\n",
      "\n",
      "#### Comparative transcriptomics among Platyhelminthes\n",
      "\n",
      "### Conclusions\n",
      "\n",
      "### Methods"
     ]
    },
    {
     "cell_type": "code",
     "collapsed": false,
     "input": [],
     "language": "python",
     "metadata": {},
     "outputs": []
    }
   ],
   "metadata": {}
  }
 ]
}