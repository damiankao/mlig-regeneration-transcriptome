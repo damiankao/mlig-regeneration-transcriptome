{
 "metadata": {
  "name": "",
  "signature": "sha256:bb39cfa4d56039af88c8a30f007c7ec73b9abae8709ad6bf17b92632a69479c5"
 },
 "nbformat": 3,
 "nbformat_minor": 0,
 "worksheets": [
  {
   "cells": [
    {
     "cell_type": "markdown",
     "metadata": {},
     "source": [
      "# Publication outline\n",
      "\n",
      "### Title page\n",
      "\n",
      "### Abstract\n",
      "\n",
      "### Background\n",
      "\n",
      "### Results and discussion\n",
      "\n",
      "#### Transcriptome assembly overview\n",
      " 1. [Table] Length metrics of all assembly variants\n",
      " 2. [Table] Annotation metrics of all assembly variants\n",
      " 3. [Table] Sequence content metrics of all assembly variants\n",
      " \n",
      "#### Trinity assemblies\n",
      " 1. Read saturation\n",
      " 2. Strandness\n",
      " 3. Jaccard clipping\n",
      " 4. Path traversal variants (pasafly vs cufffly vs butterfly)\n",
      " \n",
      "#### Velvet and Oasese assemblies\n",
      "\n",
      "#### SOAPDeNovo-Trans assemblies\n",
      " \n",
      "#### Trans-Abyss assemblies\n",
      " \n",
      "#### Reassembly with Trinity and Velvet, Oases\n",
      "\n",
      "#### Consolidation of assemblies\n",
      "\n",
      "#### Transcriptome annotations\n",
      "\n",
      "#### Comparative transcriptomics among Platyhelminthes\n",
      "\n",
      "#### Egg vs Hatchlings vs Adult transcriptomes\n",
      "\n",
      "### Conclusions\n",
      "\n",
      "### Methods"
     ]
    },
    {
     "cell_type": "code",
     "collapsed": false,
     "input": [],
     "language": "python",
     "metadata": {},
     "outputs": []
    }
   ],
   "metadata": {}
  }
 ]
}