{
 "metadata": {
  "name": "",
  "signature": "sha256:fa855928fd558ef4c3157eb5e33ded6a7cf49c03d0bfe4723842d4df944f9b99"
 },
 "nbformat": 3,
 "nbformat_minor": 0,
 "worksheets": [
  {
   "cells": [
    {
     "cell_type": "markdown",
     "metadata": {},
     "source": [
      "# Mapping regeneration time-course reads to Eugene's transcriptome\n",
      "\n",
      " 1. Map reads to Eugene's transcriptome with bowtie2\n",
      "     bowtie2 --no-unal --no-sq -p 32 -x transcriptome.bt2 -U reads.fastq.gz > reads.sam\n",
      " \n",
      " 2. Use express to distribute tag counts among possible isoforms\n",
      "     express -o outDirectory transcriptome.fasta reads.bam\n",
      " \n",
      " 3. Round tag counts and use DESeq2 to get differential expression"
     ]
    },
    {
     "cell_type": "code",
     "collapsed": false,
     "input": [
      "import gzip, os, sys\n",
      "#import custom functions for displaying tables, bash commands\n",
      "sys.path.append(os.path.abspath(\"/home/damian/\"))\n",
      "from dk_ipython import *\n",
      "from IPython.display import HTML\n",
      "import pandas as pd\n",
      "import seaborn as sns\n",
      "import matplotlib.pyplot as plt\n",
      "import scipy.stats as ss\n",
      "import scipy as sp\n",
      "\n",
      "%matplotlib inline\n",
      "HTML(addToggle())"
     ],
     "language": "python",
     "metadata": {},
     "outputs": [
      {
       "html": [
        "<script>\n",
        "code_show=true;\n",
        "function code_toggle() {\n",
        " if (code_show){\n",
        " $('div.input').hide();\n",
        " } else {\n",
        " $('div.input').show();\n",
        " }\n",
        " code_show = !code_show\n",
        "}\n",
        "\n",
        "$( document ).ready(code_toggle);\n",
        "</script>\n",
        "The raw code for this IPython notebook is by default hidden for easier reading.\n",
        "To toggle on/off the raw code, click <a href=\"javascript:code_toggle()\">here</a>."
       ],
       "metadata": {},
       "output_type": "pyout",
       "prompt_number": 31,
       "text": [
        "<IPython.core.display.HTML at 0x43dc910>"
       ]
      }
     ],
     "prompt_number": 31
    },
    {
     "cell_type": "code",
     "collapsed": false,
     "input": [
      "prefix = '/home/share/projects/mlig_regen/trim/'\n",
      "\n",
      "fs = [x for x in os.listdir(prefix) if x.split('.')[-1] == 'fastq']\n",
      "\n",
      "cmds = ''\n",
      "for f in fs:\n",
      "    cmds += 'bowtie2 --no-unal --no-sq -p 32 -x /home/share/transcriptome/mlig/eugene/bt/eugene.mlig.131024 -U ' + prefix + f + ' > ' + f  + '.sam\\n'\n",
      "    \n",
      "HTML(textarea('bowtie2 mapping commands',cmds))"
     ],
     "language": "python",
     "metadata": {},
     "outputs": [
      {
       "html": [
        "<b>bowtie2 mapping commands</b>:<br>\n",
        "<textarea style=\"width: 1000px; height:200px\">\n",
        "bowtie2 --no-unal --no-sq -p 32 -x /home/share/transcriptome/mlig/eugene/bt/eugene.mlig.131024 -U /home/share/projects/mlig_regen/trim/mlig_regen_control_024h_1_1.trimmed.fastq > mlig_regen_control_024h_1_1.trimmed.fastq.sam\n",
        "bowtie2 --no-unal --no-sq -p 32 -x /home/share/transcriptome/mlig/eugene/bt/eugene.mlig.131024 -U /home/share/projects/mlig_regen/trim/mlig_regen_reg_168h_2_1.trimmed.fastq > mlig_regen_reg_168h_2_1.trimmed.fastq.sam\n",
        "bowtie2 --no-unal --no-sq -p 32 -x /home/share/transcriptome/mlig/eugene/bt/eugene.mlig.131024 -U /home/share/projects/mlig_regen/trim/mlig_regen_reg_072h_2_1.trimmed.fastq > mlig_regen_reg_072h_2_1.trimmed.fastq.sam\n",
        "bowtie2 --no-unal --no-sq -p 32 -x /home/share/transcriptome/mlig/eugene/bt/eugene.mlig.131024 -U /home/share/projects/mlig_regen/trim/mlig_regen_reg_168h_1_1.trimmed.fastq > mlig_regen_reg_168h_1_1.trimmed.fastq.sam\n",
        "bowtie2 --no-unal --no-sq -p 32 -x /home/share/transcriptome/mlig/eugene/bt/eugene.mlig.131024 -U /home/share/projects/mlig_regen/trim/mlig_regen_control_120h_2_1.trimmed.fastq > mlig_regen_control_120h_2_1.trimmed.fastq.sam\n",
        "bowtie2 --no-unal --no-sq -p 32 -x /home/share/transcriptome/mlig/eugene/bt/eugene.mlig.131024 -U /home/share/projects/mlig_regen/trim/mlig_regen_reg_000h_1_1.trimmed.fastq > mlig_regen_reg_000h_1_1.trimmed.fastq.sam\n",
        "bowtie2 --no-unal --no-sq -p 32 -x /home/share/transcriptome/mlig/eugene/bt/eugene.mlig.131024 -U /home/share/projects/mlig_regen/trim/mlig_regen_control_168h_3_1.trimmed.fastq > mlig_regen_control_168h_3_1.trimmed.fastq.sam\n",
        "bowtie2 --no-unal --no-sq -p 32 -x /home/share/transcriptome/mlig/eugene/bt/eugene.mlig.131024 -U /home/share/projects/mlig_regen/trim/mlig_regen_control_048h_2_1.trimmed.fastq > mlig_regen_control_048h_2_1.trimmed.fastq.sam\n",
        "bowtie2 --no-unal --no-sq -p 32 -x /home/share/transcriptome/mlig/eugene/bt/eugene.mlig.131024 -U /home/share/projects/mlig_regen/trim/mlig_regen_control_120h_1_1.trimmed.fastq > mlig_regen_control_120h_1_1.trimmed.fastq.sam\n",
        "bowtie2 --no-unal --no-sq -p 32 -x /home/share/transcriptome/mlig/eugene/bt/eugene.mlig.131024 -U /home/share/projects/mlig_regen/trim/mlig_regen_reg_072h_1_1.trimmed.fastq > mlig_regen_reg_072h_1_1.trimmed.fastq.sam\n",
        "bowtie2 --no-unal --no-sq -p 32 -x /home/share/transcriptome/mlig/eugene/bt/eugene.mlig.131024 -U /home/share/projects/mlig_regen/trim/mlig_regen_reg_024h_1_1.trimmed.fastq > mlig_regen_reg_024h_1_1.trimmed.fastq.sam\n",
        "bowtie2 --no-unal --no-sq -p 32 -x /home/share/transcriptome/mlig/eugene/bt/eugene.mlig.131024 -U /home/share/projects/mlig_regen/trim/mlig_regen_control_096h_2_1.trimmed.fastq > mlig_regen_control_096h_2_1.trimmed.fastq.sam\n",
        "bowtie2 --no-unal --no-sq -p 32 -x /home/share/transcriptome/mlig/eugene/bt/eugene.mlig.131024 -U /home/share/projects/mlig_regen/trim/mlig_regen_control_072h_2_1.trimmed.fastq > mlig_regen_control_072h_2_1.trimmed.fastq.sam\n",
        "bowtie2 --no-unal --no-sq -p 32 -x /home/share/transcriptome/mlig/eugene/bt/eugene.mlig.131024 -U /home/share/projects/mlig_regen/trim/mlig_pilot_stage_A2_000h_R1.trimmed.fastq > mlig_pilot_stage_A2_000h_R1.trimmed.fastq.sam\n",
        "bowtie2 --no-unal --no-sq -p 32 -x /home/share/transcriptome/mlig/eugene/bt/eugene.mlig.131024 -U /home/share/projects/mlig_regen/trim/mlig_regen_reg_048h_1_1.trimmed.fastq > mlig_regen_reg_048h_1_1.trimmed.fastq.sam\n",
        "bowtie2 --no-unal --no-sq -p 32 -x /home/share/transcriptome/mlig/eugene/bt/eugene.mlig.131024 -U /home/share/projects/mlig_regen/trim/mlig_regen_control_096h_1_1.trimmed.fastq > mlig_regen_control_096h_1_1.trimmed.fastq.sam\n",
        "bowtie2 --no-unal --no-sq -p 32 -x /home/share/transcriptome/mlig/eugene/bt/eugene.mlig.131024 -U /home/share/projects/mlig_regen/trim/mlig_regen_control_024h_2_1.trimmed.fastq > mlig_regen_control_024h_2_1.trimmed.fastq.sam\n",
        "bowtie2 --no-unal --no-sq -p 32 -x /home/share/transcriptome/mlig/eugene/bt/eugene.mlig.131024 -U /home/share/projects/mlig_regen/trim/mlig_regen_control_012h_2_1.trimmed.fastq > mlig_regen_control_012h_2_1.trimmed.fastq.sam\n",
        "bowtie2 --no-unal --no-sq -p 32 -x /home/share/transcriptome/mlig/eugene/bt/eugene.mlig.131024 -U /home/share/projects/mlig_regen/trim/mlig_regen_reg_048h_2_1.trimmed.fastq > mlig_regen_reg_048h_2_1.trimmed.fastq.sam\n",
        "bowtie2 --no-unal --no-sq -p 32 -x /home/share/transcriptome/mlig/eugene/bt/eugene.mlig.131024 -U /home/share/projects/mlig_regen/trim/mlig_regen_control_168h_1_1.trimmed.fastq > mlig_regen_control_168h_1_1.trimmed.fastq.sam\n",
        "bowtie2 --no-unal --no-sq -p 32 -x /home/share/transcriptome/mlig/eugene/bt/eugene.mlig.131024 -U /home/share/projects/mlig_regen/trim/mlig_regen_reg_120h_3_1.trimmed.fastq > mlig_regen_reg_120h_3_1.trimmed.fastq.sam\n",
        "bowtie2 --no-unal --no-sq -p 32 -x /home/share/transcriptome/mlig/eugene/bt/eugene.mlig.131024 -U /home/share/projects/mlig_regen/trim/mlig_regen_reg_012h_1_1.trimmed.fastq > mlig_regen_reg_012h_1_1.trimmed.fastq.sam\n",
        "bowtie2 --no-unal --no-sq -p 32 -x /home/share/transcriptome/mlig/eugene/bt/eugene.mlig.131024 -U /home/share/projects/mlig_regen/trim/mlig_regen_reg_000h_2_1.trimmed.fastq > mlig_regen_reg_000h_2_1.trimmed.fastq.sam\n",
        "bowtie2 --no-unal --no-sq -p 32 -x /home/share/transcriptome/mlig/eugene/bt/eugene.mlig.131024 -U /home/share/projects/mlig_regen/trim/mlig_regen_reg_120h_1_1.trimmed.fastq > mlig_regen_reg_120h_1_1.trimmed.fastq.sam\n",
        "bowtie2 --no-unal --no-sq -p 32 -x /home/share/transcriptome/mlig/eugene/bt/eugene.mlig.131024 -U /home/share/projects/mlig_regen/trim/mlig_regen_reg_024h_2_1.trimmed.fastq > mlig_regen_reg_024h_2_1.trimmed.fastq.sam\n",
        "bowtie2 --no-unal --no-sq -p 32 -x /home/share/transcriptome/mlig/eugene/bt/eugene.mlig.131024 -U /home/share/projects/mlig_regen/trim/mlig_pilot_stage_A1_000h_R1.trimmed.fastq > mlig_pilot_stage_A1_000h_R1.trimmed.fastq.sam\n",
        "bowtie2 --no-unal --no-sq -p 32 -x /home/share/transcriptome/mlig/eugene/bt/eugene.mlig.131024 -U /home/share/projects/mlig_regen/trim/mlig_regen_control_120h_3_1.trimmed.fastq > mlig_regen_control_120h_3_1.trimmed.fastq.sam\n",
        "bowtie2 --no-unal --no-sq -p 32 -x /home/share/transcriptome/mlig/eugene/bt/eugene.mlig.131024 -U /home/share/projects/mlig_regen/trim/mlig_regen_control_072h_1_1.trimmed.fastq > mlig_regen_control_072h_1_1.trimmed.fastq.sam\n",
        "bowtie2 --no-unal --no-sq -p 32 -x /home/share/transcriptome/mlig/eugene/bt/eugene.mlig.131024 -U /home/share/projects/mlig_regen/trim/mlig_regen_reg_096h_2_1.trimmed.fastq > mlig_regen_reg_096h_2_1.trimmed.fastq.sam\n",
        "bowtie2 --no-unal --no-sq -p 32 -x /home/share/transcriptome/mlig/eugene/bt/eugene.mlig.131024 -U /home/share/projects/mlig_regen/trim/mlig_regen_reg_168h_3_1.trimmed.fastq > mlig_regen_reg_168h_3_1.trimmed.fastq.sam\n",
        "bowtie2 --no-unal --no-sq -p 32 -x /home/share/transcriptome/mlig/eugene/bt/eugene.mlig.131024 -U /home/share/projects/mlig_regen/trim/mlig_regen_reg_096h_1_1.trimmed.fastq > mlig_regen_reg_096h_1_1.trimmed.fastq.sam\n",
        "bowtie2 --no-unal --no-sq -p 32 -x /home/share/transcriptome/mlig/eugene/bt/eugene.mlig.131024 -U /home/share/projects/mlig_regen/trim/mlig_regen_reg_120h_2_1.trimmed.fastq > mlig_regen_reg_120h_2_1.trimmed.fastq.sam\n",
        "bowtie2 --no-unal --no-sq -p 32 -x /home/share/transcriptome/mlig/eugene/bt/eugene.mlig.131024 -U /home/share/projects/mlig_regen/trim/mlig_regen_control_168h_2_1.trimmed.fastq > mlig_regen_control_168h_2_1.trimmed.fastq.sam\n",
        "bowtie2 --no-unal --no-sq -p 32 -x /home/share/transcriptome/mlig/eugene/bt/eugene.mlig.131024 -U /home/share/projects/mlig_regen/trim/mlig_regen_control_048h_1_1.trimmed.fastq > mlig_regen_control_048h_1_1.trimmed.fastq.sam\n",
        "bowtie2 --no-unal --no-sq -p 32 -x /home/share/transcriptome/mlig/eugene/bt/eugene.mlig.131024 -U /home/share/projects/mlig_regen/trim/mlig_regen_control_012h_1_1.trimmed.fastq > mlig_regen_control_012h_1_1.trimmed.fastq.sam\n",
        "bowtie2 --no-unal --no-sq -p 32 -x /home/share/transcriptome/mlig/eugene/bt/eugene.mlig.131024 -U /home/share/projects/mlig_regen/trim/mlig_regen_reg_012h_2_1.trimmed.fastq > mlig_regen_reg_012h_2_1.trimmed.fastq.sam\n",
        "\n",
        "</textarea>"
       ],
       "metadata": {},
       "output_type": "pyout",
       "prompt_number": 5,
       "text": [
        "<IPython.core.display.HTML at 0x43fd710>"
       ]
      }
     ],
     "prompt_number": 5
    },
    {
     "cell_type": "code",
     "collapsed": false,
     "input": [
      "from collections import defaultdict\n",
      "\n",
      "prefix = '/home/share/projects/mlig_regen/eugene/count/'\n",
      "\n",
      "countFiles = os.listdir(prefix)\n",
      "\n",
      "libs = []\n",
      "counts = defaultdict(lambda : defaultdict(int))\n",
      "for countFile in countFiles:\n",
      "    lib = countFile.split('.')[0]\n",
      "    libs.append(lib)\n",
      "    \n",
      "    inFile = open(prefix + countFile)\n",
      "    for line in inFile:\n",
      "        meta = line.strip().split()\n",
      "        counts[meta[0]][lib] = int(round(float(meta[1])))\n",
      "        \n",
      "    inFile.close()\n",
      "\n",
      "outFile = open('/home/share/projects/mlig_regen/eugene/deseq/consolidated.rounded.count','w')\n",
      "outFile.write('tid\\t' + '\\t'.join(libs) + '\\n')\n",
      "\n",
      "for rid, libData in counts.items():\n",
      "    out = [rid]\n",
      "    for lib in libs:\n",
      "        out.append(str(libData[lib]))\n",
      "        \n",
      "    outFile.write('\\t'.join(out) + '\\n')"
     ],
     "language": "python",
     "metadata": {},
     "outputs": [],
     "prompt_number": 16
    },
    {
     "cell_type": "code",
     "collapsed": false,
     "input": [
      "counts = open('/home/share/projects/mlig_regen/eugene/deseq/consolidated.rounded.count')\n",
      "header = counts.next().strip().split()[1:]\n",
      "counts.close()\n",
      "header = [x.split('_')[2][0] + '_' + '_'.join(x.split('_')[3:]) for x in header]\n",
      "\n",
      "treatment = [x.split('_')[0] for x in header]\n",
      "time = [x.split('_')[1] for x in header]\n",
      "deseqR = '''library(DESeq2)\n",
      "treatment = c(\"''' + '\",\"'.join(treatment) + '''\")\n",
      "time = c(\"''' + '\",\"'.join(time) + '''\")\n",
      "header = c(\"''' + '\",\"'.join(header) + '''\")\n",
      "countData = read.table('/home/share/projects/mlig_regen/eugene/deseq/consolidated.rounded.count', row.names = 1, skip=1)\n",
      "treatment = as.factor(treatment)\n",
      "time = as.factor(time)\n",
      "colData = data.frame(treatment, time)\n",
      "rownames(colData) = header\n",
      "colnames(countData) = header\n",
      "countTable = DESeqDataSetFromMatrix(countData = countData,colData = colData,design = ~ treatment)\n",
      "'''\n",
      "\n",
      "for t in list(set(time)):\n",
      "    template = '''count_!TIME! = countTable[,countTable$time == '!TIME!']\n",
      "count_!TIME!$time = droplevels(count_!TIME!$time)\n",
      "count_!TIME!$treatment = relevel(count_!TIME!$treatment, 'c')\n",
      "count_!TIME! = DESeq(count_!TIME!)\n",
      "res_!TIME! = results(count_!TIME!)\n",
      "write.table(res_!TIME!,'deseq_!TIME!.de', sep='\\\\t', quote=FALSE)\n",
      "'''.replace('!TIME!',t)\n",
      "    \n",
      "    deseqR += template\n",
      "\n",
      "HTML(textarea('DESeq R script', deseqR))\n"
     ],
     "language": "python",
     "metadata": {},
     "outputs": [
      {
       "html": [
        "<b>DESeq R script</b>:<br>\n",
        "<textarea style=\"width: 1000px; height:200px\">\n",
        "library(DESeq2)\n",
        "treatment = c(\"r\",\"c\",\"c\",\"c\",\"r\",\"r\",\"c\",\"r\",\"r\",\"r\",\"c\",\"c\",\"r\",\"r\",\"r\",\"c\",\"r\",\"r\",\"r\",\"c\",\"c\",\"r\",\"c\",\"c\",\"r\",\"r\",\"r\",\"r\",\"c\",\"c\",\"r\",\"c\",\"c\",\"c\",\"c\",\"c\")\n",
        "time = c(\"072h\",\"024h\",\"168h\",\"168h\",\"012h\",\"024h\",\"168h\",\"168h\",\"072h\",\"012h\",\"072h\",\"120h\",\"168h\",\"000h\",\"120h\",\"000h\",\"168h\",\"000h\",\"048h\",\"096h\",\"120h\",\"120h\",\"120h\",\"012h\",\"120h\",\"048h\",\"024h\",\"096h\",\"024h\",\"072h\",\"096h\",\"012h\",\"000h\",\"096h\",\"048h\",\"048h\")\n",
        "header = c(\"r_072h_1_1\",\"c_024h_1_1\",\"c_168h_2_1\",\"c_168h_3_1\",\"r_012h_2_1\",\"r_024h_1_1\",\"c_168h_1_1\",\"r_168h_3_1\",\"r_072h_2_1\",\"r_012h_1_1\",\"c_072h_1_1\",\"c_120h_2_1\",\"r_168h_1_1\",\"r_000h_1_1\",\"r_120h_1_1\",\"c_000h_2_1\",\"r_168h_2_1\",\"r_000h_2_1\",\"r_048h_2_1\",\"c_096h_2_1\",\"c_120h_1_1\",\"r_120h_2_1\",\"c_120h_3_1\",\"c_012h_2_1\",\"r_120h_3_1\",\"r_048h_1_1\",\"r_024h_2_1\",\"r_096h_1_1\",\"c_024h_2_1\",\"c_072h_2_1\",\"r_096h_2_1\",\"c_012h_1_1\",\"c_000h_1_1\",\"c_096h_1_1\",\"c_048h_2_1\",\"c_048h_1_1\")\n",
        "countData = read.table('/home/share/projects/mlig_regen/eugene/deseq/consolidated.rounded.count', row.names = 1, skip=1)\n",
        "treatment = as.factor(treatment)\n",
        "time = as.factor(time)\n",
        "colData = data.frame(treatment, time)\n",
        "rownames(colData) = header\n",
        "colnames(countData) = header\n",
        "countTable = DESeqDataSetFromMatrix(countData = countData,colData = colData,design = ~ treatment)\n",
        "count_168h = countTable[,countTable$time == '168h']\n",
        "count_168h$time = droplevels(count_168h$time)\n",
        "count_168h$treatment = relevel(count_168h$treatment, 'c')\n",
        "count_168h = DESeq(count_168h)\n",
        "res_168h = results(count_168h)\n",
        "write.table(res_168h,'deseq_168h.de', sep='\\t', quote=FALSE)\n",
        "count_096h = countTable[,countTable$time == '096h']\n",
        "count_096h$time = droplevels(count_096h$time)\n",
        "count_096h$treatment = relevel(count_096h$treatment, 'c')\n",
        "count_096h = DESeq(count_096h)\n",
        "res_096h = results(count_096h)\n",
        "write.table(res_096h,'deseq_096h.de', sep='\\t', quote=FALSE)\n",
        "count_048h = countTable[,countTable$time == '048h']\n",
        "count_048h$time = droplevels(count_048h$time)\n",
        "count_048h$treatment = relevel(count_048h$treatment, 'c')\n",
        "count_048h = DESeq(count_048h)\n",
        "res_048h = results(count_048h)\n",
        "write.table(res_048h,'deseq_048h.de', sep='\\t', quote=FALSE)\n",
        "count_120h = countTable[,countTable$time == '120h']\n",
        "count_120h$time = droplevels(count_120h$time)\n",
        "count_120h$treatment = relevel(count_120h$treatment, 'c')\n",
        "count_120h = DESeq(count_120h)\n",
        "res_120h = results(count_120h)\n",
        "write.table(res_120h,'deseq_120h.de', sep='\\t', quote=FALSE)\n",
        "count_072h = countTable[,countTable$time == '072h']\n",
        "count_072h$time = droplevels(count_072h$time)\n",
        "count_072h$treatment = relevel(count_072h$treatment, 'c')\n",
        "count_072h = DESeq(count_072h)\n",
        "res_072h = results(count_072h)\n",
        "write.table(res_072h,'deseq_072h.de', sep='\\t', quote=FALSE)\n",
        "count_024h = countTable[,countTable$time == '024h']\n",
        "count_024h$time = droplevels(count_024h$time)\n",
        "count_024h$treatment = relevel(count_024h$treatment, 'c')\n",
        "count_024h = DESeq(count_024h)\n",
        "res_024h = results(count_024h)\n",
        "write.table(res_024h,'deseq_024h.de', sep='\\t', quote=FALSE)\n",
        "count_000h = countTable[,countTable$time == '000h']\n",
        "count_000h$time = droplevels(count_000h$time)\n",
        "count_000h$treatment = relevel(count_000h$treatment, 'c')\n",
        "count_000h = DESeq(count_000h)\n",
        "res_000h = results(count_000h)\n",
        "write.table(res_000h,'deseq_000h.de', sep='\\t', quote=FALSE)\n",
        "count_012h = countTable[,countTable$time == '012h']\n",
        "count_012h$time = droplevels(count_012h$time)\n",
        "count_012h$treatment = relevel(count_012h$treatment, 'c')\n",
        "count_012h = DESeq(count_012h)\n",
        "res_012h = results(count_012h)\n",
        "write.table(res_012h,'deseq_012h.de', sep='\\t', quote=FALSE)\n",
        "\n",
        "</textarea>"
       ],
       "metadata": {},
       "output_type": "pyout",
       "prompt_number": 19,
       "text": [
        "<IPython.core.display.HTML at 0x445db10>"
       ]
      }
     ],
     "prompt_number": 19
    },
    {
     "cell_type": "code",
     "collapsed": false,
     "input": [
      "prefix = '/home/share/projects/mlig_regen/eugene/deseq/'\n",
      "\n",
      "deseq_rounded_de = {}\n",
      "for i in set(time):\n",
      "    inFile = open(prefix + 'deseq_' + i + '.de')\n",
      "    inFile.next()\n",
      "    deseq_rounded_de[i] = []\n",
      "    for line in inFile:\n",
      "        meta = line.strip().split('\\t')\n",
      "        if meta[-1] != 'NA':\n",
      "            if float(meta[-1]) < 0.01 and abs(float(meta[2])) > 1:\n",
      "                deseq_rounded_de[i].append(meta)\n",
      "    \n",
      "    inFile.close()\n",
      "\n",
      "anno = {}\n",
      "annoFile = open('/home/share/transcriptome/mlig/eugene/eugene.mlig.131024.annotation')\n",
      "for line in annoFile:\n",
      "    tid = line.strip().split()[0]\n",
      "    if line.strip().find('Human') != -1:\n",
      "        meta = line.strip().split('{')\n",
      "        for item in meta:\n",
      "            if item.find('Human') != -1:\n",
      "                anno[tid] = item[:-1]\n",
      "\n",
      "print 'Number of DE transcripts at each time-point:'\n",
      "for lib, de in deseq_rounded_de.items():\n",
      "    de.sort(key = lambda x : float(x[2]))\n",
      "    outFile = open('/home/share/projects/mlig_regen/eugene/deseq/' + lib + '.txt','w')\n",
      "    \n",
      "    for row in de:\n",
      "        a = \"none\"\n",
      "        if anno.has_key(row[0]):\n",
      "            a = anno[row[0]]\n",
      "\n",
      "        outFile.write('\\t'.join([row[0],row[2],row[-1],a]) + '\\n')\n",
      "    \n",
      "    \n",
      "    outFile.close()\n",
      "    print lib + '\\t' + str(len(de))"
     ],
     "language": "python",
     "metadata": {},
     "outputs": [
      {
       "output_type": "stream",
       "stream": "stdout",
       "text": [
        "Number of DE transcripts at each time-point:\n",
        "168h\t404\n",
        "096h\t370\n",
        "048h\t161\n",
        "120h\t281\n",
        "072h\t342\n",
        "024h\t1144\n",
        "000h\t23115\n",
        "012h\t133\n",
        "Number of DE transcripts at each time-point:\n",
        "168h\t404\n",
        "096h\t370\n",
        "048h\t161\n",
        "120h\t281\n",
        "072h\t342\n",
        "024h\t1144\n",
        "000h\t23115"
       ]
      },
      {
       "output_type": "stream",
       "stream": "stdout",
       "text": [
        "\n",
        "012h\t133\n"
       ]
      }
     ],
     "prompt_number": 30
    },
    {
     "cell_type": "code",
     "collapsed": false,
     "input": [
      "tagFile = open(prefix + 'consolidated.rounded.count')\n",
      "headers = [x.split('_')[3] for x in tagFile.next().strip().split()[1:]]\n",
      "\n",
      "from collections import defaultdict\n",
      "tags = {}\n",
      "for line in tagFile:\n",
      "    meta = line.strip().split()\n",
      "    tid = meta[0]\n",
      "    tags[tid] = {}\n",
      "    libs = defaultdict(list)\n",
      "    for i, header in enumerate(headers):\n",
      "        libs[header].append(int(meta[i + 1]))\n",
      "        \n",
      "    for lib, counts in libs:\n",
      "        tags[tid][lib] = sum(counts)"
     ],
     "language": "python",
     "metadata": {},
     "outputs": [
      {
       "output_type": "stream",
       "stream": "stdout",
       "text": [
        "['072h', '024h', '168h', '168h', '012h', '024h', '168h', '168h', '072h', '012h', '072h', '120h', '168h', '000h', '120h', '000h', '168h', '000h', '048h', '096h', '120h', '120h', '120h', '012h', '120h', '048h', '024h', '096h', '024h', '072h', '096h', '012h', '000h', '096h', '048h', '048h']\n"
       ]
      }
     ],
     "prompt_number": 32
    },
    {
     "cell_type": "code",
     "collapsed": false,
     "input": [
      "import numpy as np\n",
      "import matplotlib\n",
      "import matplotlib.pyplot as plt\n",
      "import scipy.stats\n",
      "from scipy.stats import poisson\n",
      "\n",
      "print 'Poisson distribution of tag counts of 10 and 20'\n",
      "k = np.arange(40)\n",
      "colors = matplotlib.rcParams['axes.color_cycle'] \n",
      "plt.figure(figsize=(12,4))\n",
      "for i, lambda_ in enumerate([10, 20]):\n",
      "    plt.bar(k, poisson.pmf(k, lambda_), label=lambda_, color=colors[i], alpha=0.4, edgecolor=colors[i], lw=3)\n",
      "    plt.legend()\n",
      "plt.title(\"Poisson distribution\")\n",
      "plt.xlabel(\"$k$\")\n",
      "plt.ylabel(\"PDF at k\")"
     ],
     "language": "python",
     "metadata": {},
     "outputs": [
      {
       "output_type": "stream",
       "stream": "stdout",
       "text": [
        "Poisson distribution of tag counts of 10 and 20\n"
       ]
      },
      {
       "metadata": {},
       "output_type": "pyout",
       "prompt_number": 45,
       "text": [
        "<matplotlib.text.Text at 0x45ef810>"
       ]
      },
      {
       "metadata": {},
       "output_type": "display_data",
       "png": "[encoded data removed]",
       "text": [
        "<matplotlib.figure.Figure at 0x1405ae10>"
       ]
      }
     ],
     "prompt_number": 45
    },
    {
     "cell_type": "code",
     "collapsed": false,
     "input": [
      "print 'Poisson distribution of tag counts of 100 and 200'\n",
      "k = np.arange(260)\n",
      "colors = matplotlib.rcParams['axes.color_cycle'] \n",
      "plt.figure(figsize=(12,4))\n",
      "for i, lambda_ in enumerate([100, 200]):\n",
      "    plt.bar(k, poisson.pmf(k, lambda_), label=lambda_, color=colors[i], alpha=0.4, edgecolor=colors[i], lw=3)\n",
      "    plt.legend()\n",
      "plt.title(\"Poisson distribution\")\n",
      "plt.xlabel(\"$k$\")\n",
      "plt.ylabel(\"PDF at k\")"
     ],
     "language": "python",
     "metadata": {},
     "outputs": [
      {
       "output_type": "stream",
       "stream": "stdout",
       "text": [
        "Poisson distribution of tag counts of 100 and 200\n"
       ]
      },
      {
       "metadata": {},
       "output_type": "pyout",
       "prompt_number": 48,
       "text": [
        "<matplotlib.text.Text at 0x30d10e50>"
       ]
      },
      {
       "metadata": {},
       "output_type": "display_data",
       "png": "[encoded data removed]",
       "text": [
        "<matplotlib.figure.Figure at 0xd8eaa50>"
       ]
      }
     ],
     "prompt_number": 48
    },
    {
     "cell_type": "code",
     "collapsed": false,
     "input": [],
     "language": "python",
     "metadata": {},
     "outputs": []
    }
   ],
   "metadata": {}
  }
 ]
}