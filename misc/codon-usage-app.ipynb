{
 "metadata": {
  "name": "",
  "signature": "sha256:06da61e289c9a560cf842df165f2e224eed95b84dae80c5a9421d5a914df5c0c"
 },
 "nbformat": 3,
 "nbformat_minor": 0,
 "worksheets": [
  {
   "cells": [
    {
     "cell_type": "markdown",
     "metadata": {},
     "source": [
      "# Optimal codon for M. lignano"
     ]
    },
    {
     "cell_type": "code",
     "collapsed": false,
     "input": [
      "import gzip, os, sys\n",
      "sys.path.append(os.path.abspath(\"/home/damian/\"))\n",
      "from dk_ipython import *\n",
      "from IPython.display import HTML\n",
      "import pandas as pd\n",
      "import seaborn as sns\n",
      "import matplotlib.pyplot as plt\n",
      "%matplotlib inline\n",
      "\n",
      "from collections import defaultdict\n",
      "tableFile = open('/home/share/projects/mlig_transcriptome/codonUsage/stranded.orf.nuc.longest.300.blast.cusp')\n",
      "tableFile.next()\n",
      "tableFile.next()\n",
      "tableFile.next()\n",
      "tableFile.next()\n",
      "tableFile.next()\n",
      "tableFile.next()\n",
      "tableFile.next()\n",
      "usage = {}\n",
      "optimalUsage = {}\n",
      "\n",
      "for line in tableFile:\n",
      "    meta = line.strip().split()\n",
      "    usage[meta[0]] = (float(meta[2]) * 100,meta[1])\n",
      "    if not optimalUsage.has_key(meta[1]):\n",
      "        optimalUsage[meta[1]] = (meta[0], float(meta[2]) * 100)\n",
      "    else:\n",
      "        if optimalUsage[meta[1]][1] < float(meta[2]) * 100:\n",
      "            optimalUsage[meta[1]] = (meta[0], float(meta[2]) * 100)\n",
      "    \n",
      "tableFile.close()\n",
      "HTML(addToggle())"
     ],
     "language": "python",
     "metadata": {},
     "outputs": [
      {
       "html": [
        "<script>\n",
        "code_show=true;\n",
        "function code_toggle() {\n",
        " if (code_show){\n",
        " $('div.input').hide();\n",
        " } else {\n",
        " $('div.input').show();\n",
        " }\n",
        " code_show = !code_show\n",
        "}\n",
        "\n",
        "$( document ).ready(code_toggle);\n",
        "</script>\n",
        "The raw code for this IPython notebook is by default hidden for easier reading.\n",
        "To toggle on/off the raw code, click <a href=\"javascript:code_toggle()\">here</a>."
       ],
       "metadata": {},
       "output_type": "pyout",
       "prompt_number": 35,
       "text": [
        "<IPython.core.display.HTML at 0x4e2ed50>"
       ]
      }
     ],
     "prompt_number": 35
    },
    {
     "cell_type": "code",
     "collapsed": false,
     "input": [
      "codonTable = ListTable()\n",
      "codonTable.append(['Amino Acid','Optimal Codon'])\n",
      "for k,v in optimalUsage.items():\n",
      "    codonTable.append([k, v[0]])\n",
      "codonTable"
     ],
     "language": "python",
     "metadata": {},
     "outputs": [
      {
       "html": [
        "<table style='font-size:12px'><tr style='font-weight:bold'><td style='padding:4px 15px 4px 15px;border-color:white;text-align:center'>Amino Acid</td><td style='padding:4px 15px 4px 15px;border-color:white;text-align:center'>Optimal Codon</td></tr><tr style='background:#E8E8E8'><td style='padding:4px 15px 4px 15px;border-color:#B0B0B0;text-align:center'>A</td><td style='padding:4px 15px 4px 15px;border-color:#B0B0B0;text-align:center'>GCC</td></tr><tr style='background:white'><td style='padding:4px 15px 4px 15px;border-color:#B0B0B0;text-align:center'>C</td><td style='padding:4px 15px 4px 15px;border-color:#B0B0B0;text-align:center'>TGC</td></tr><tr style='background:#E8E8E8'><td style='padding:4px 15px 4px 15px;border-color:#B0B0B0;text-align:center'>E</td><td style='padding:4px 15px 4px 15px;border-color:#B0B0B0;text-align:center'>GAG</td></tr><tr style='background:white'><td style='padding:4px 15px 4px 15px;border-color:#B0B0B0;text-align:center'>D</td><td style='padding:4px 15px 4px 15px;border-color:#B0B0B0;text-align:center'>GAC</td></tr><tr style='background:#E8E8E8'><td style='padding:4px 15px 4px 15px;border-color:#B0B0B0;text-align:center'>G</td><td style='padding:4px 15px 4px 15px;border-color:#B0B0B0;text-align:center'>GGC</td></tr><tr style='background:white'><td style='padding:4px 15px 4px 15px;border-color:#B0B0B0;text-align:center'>F</td><td style='padding:4px 15px 4px 15px;border-color:#B0B0B0;text-align:center'>TTC</td></tr><tr style='background:#E8E8E8'><td style='padding:4px 15px 4px 15px;border-color:#B0B0B0;text-align:center'>I</td><td style='padding:4px 15px 4px 15px;border-color:#B0B0B0;text-align:center'>ATC</td></tr><tr style='background:white'><td style='padding:4px 15px 4px 15px;border-color:#B0B0B0;text-align:center'>H</td><td style='padding:4px 15px 4px 15px;border-color:#B0B0B0;text-align:center'>CAC</td></tr><tr style='background:#E8E8E8'><td style='padding:4px 15px 4px 15px;border-color:#B0B0B0;text-align:center'>K</td><td style='padding:4px 15px 4px 15px;border-color:#B0B0B0;text-align:center'>AAG</td></tr><tr style='background:white'><td style='padding:4px 15px 4px 15px;border-color:#B0B0B0;text-align:center'>*</td><td style='padding:4px 15px 4px 15px;border-color:#B0B0B0;text-align:center'>TAA</td></tr><tr style='background:#E8E8E8'><td style='padding:4px 15px 4px 15px;border-color:#B0B0B0;text-align:center'>M</td><td style='padding:4px 15px 4px 15px;border-color:#B0B0B0;text-align:center'>ATG</td></tr><tr style='background:white'><td style='padding:4px 15px 4px 15px;border-color:#B0B0B0;text-align:center'>L</td><td style='padding:4px 15px 4px 15px;border-color:#B0B0B0;text-align:center'>CTG</td></tr><tr style='background:#E8E8E8'><td style='padding:4px 15px 4px 15px;border-color:#B0B0B0;text-align:center'>N</td><td style='padding:4px 15px 4px 15px;border-color:#B0B0B0;text-align:center'>AAC</td></tr><tr style='background:white'><td style='padding:4px 15px 4px 15px;border-color:#B0B0B0;text-align:center'>Q</td><td style='padding:4px 15px 4px 15px;border-color:#B0B0B0;text-align:center'>CAG</td></tr><tr style='background:#E8E8E8'><td style='padding:4px 15px 4px 15px;border-color:#B0B0B0;text-align:center'>P</td><td style='padding:4px 15px 4px 15px;border-color:#B0B0B0;text-align:center'>CCG</td></tr><tr style='background:white'><td style='padding:4px 15px 4px 15px;border-color:#B0B0B0;text-align:center'>S</td><td style='padding:4px 15px 4px 15px;border-color:#B0B0B0;text-align:center'>AGC</td></tr><tr style='background:#E8E8E8'><td style='padding:4px 15px 4px 15px;border-color:#B0B0B0;text-align:center'>R</td><td style='padding:4px 15px 4px 15px;border-color:#B0B0B0;text-align:center'>CGC</td></tr><tr style='background:white'><td style='padding:4px 15px 4px 15px;border-color:#B0B0B0;text-align:center'>T</td><td style='padding:4px 15px 4px 15px;border-color:#B0B0B0;text-align:center'>ACC</td></tr><tr style='background:#E8E8E8'><td style='padding:4px 15px 4px 15px;border-color:#B0B0B0;text-align:center'>W</td><td style='padding:4px 15px 4px 15px;border-color:#B0B0B0;text-align:center'>TGG</td></tr><tr style='background:white'><td style='padding:4px 15px 4px 15px;border-color:#B0B0B0;text-align:center'>V</td><td style='padding:4px 15px 4px 15px;border-color:#B0B0B0;text-align:center'>GTG</td></tr><tr style='background:#E8E8E8'><td style='padding:4px 15px 4px 15px;border-color:#B0B0B0;text-align:center'>Y</td><td style='padding:4px 15px 4px 15px;border-color:#B0B0B0;text-align:center'>TAC</td></tr></table>"
       ],
       "metadata": {},
       "output_type": "pyout",
       "prompt_number": 34,
       "text": [
        "[['Amino Acid', 'Optimal Codon'],\n",
        " ['A', 'GCC'],\n",
        " ['C', 'TGC'],\n",
        " ['E', 'GAG'],\n",
        " ['D', 'GAC'],\n",
        " ['G', 'GGC'],\n",
        " ['F', 'TTC'],\n",
        " ['I', 'ATC'],\n",
        " ['H', 'CAC'],\n",
        " ['K', 'AAG'],\n",
        " ['*', 'TAA'],\n",
        " ['M', 'ATG'],\n",
        " ['L', 'CTG'],\n",
        " ['N', 'AAC'],\n",
        " ['Q', 'CAG'],\n",
        " ['P', 'CCG'],\n",
        " ['S', 'AGC'],\n",
        " ['R', 'CGC'],\n",
        " ['T', 'ACC'],\n",
        " ['W', 'TGG'],\n",
        " ['V', 'GTG'],\n",
        " ['Y', 'TAC']]"
       ]
      }
     ],
     "prompt_number": 34
    },
    {
     "cell_type": "code",
     "collapsed": false,
     "input": [
      "jsOpt = {}\n",
      "for k, v in optimalUsage.items():\n",
      "    jsOpt[k] = v[0]\n",
      "    \n",
      "HTML('''\n",
      "<script>\n",
      "var opt = ''' + str(jsOpt) + '''\n",
      "function optimize() {\n",
      "    var inseq = document.getElementById('inseq').value;\n",
      "    var topSeq = ''\n",
      "    for (var i = 0 ; i < inseq.length ; i ++) {\n",
      "        topSeq += opt[inseq[i]];\n",
      "    }\n",
      "    \n",
      "    document.getElementById('outseq').value = topSeq;\n",
      "}\n",
      "</script>\n",
      "<textarea id = 'inseq' style=\"width:800px;height:200px\">paste the protein sequence here to be optimized</textarea>\n",
      "<br>\n",
      "<button onclick='javascript:optimize()'>Optimize</button>\n",
      "<br><br>\n",
      "<textarea id = 'outseq' style=\"width:800px;height:200px\">optimized CDS will be outputted here</textarea>\n",
      "''')"
     ],
     "language": "python",
     "metadata": {},
     "outputs": [
      {
       "html": [
        "\n",
        "<script>\n",
        "var opt = {'A': 'GCC', 'C': 'TGC', 'E': 'GAG', 'D': 'GAC', 'G': 'GGC', 'F': 'TTC', 'I': 'ATC', 'H': 'CAC', 'K': 'AAG', '*': 'TAA', 'M': 'ATG', 'L': 'CTG', 'N': 'AAC', 'Q': 'CAG', 'P': 'CCG', 'S': 'AGC', 'R': 'CGC', 'T': 'ACC', 'W': 'TGG', 'V': 'GTG', 'Y': 'TAC'}\n",
        "function optimize() {\n",
        "    var inseq = document.getElementById('inseq').value;\n",
        "    var topSeq = ''\n",
        "    for (var i = 0 ; i < inseq.length ; i ++) {\n",
        "        topSeq += opt[inseq[i]];\n",
        "    }\n",
        "    \n",
        "    document.getElementById('outseq').value = topSeq;\n",
        "}\n",
        "</script>\n",
        "<textarea id = 'inseq' style=\"width:800px;height:200px\">paste the protein sequence here to be optimized</textarea>\n",
        "<br>\n",
        "<button onclick='javascript:optimize()'>Optimize</button>\n",
        "<br><br>\n",
        "<textarea id = 'outseq' style=\"width:800px;height:200px\">optimized CDS will be outputted here</textarea>\n"
       ],
       "metadata": {},
       "output_type": "pyout",
       "prompt_number": 36,
       "text": [
        "<IPython.core.display.HTML at 0x4dfec10>"
       ]
      }
     ],
     "prompt_number": 36
    }
   ],
   "metadata": {}
  }
 ]
}