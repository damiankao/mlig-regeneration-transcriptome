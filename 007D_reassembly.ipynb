{
 "metadata": {
  "name": "",
  "signature": "sha256:93a7a21bce394af1ee9d5938ef57ae1bb5706192428e0afd5b172e357f552482"
 },
 "nbformat": 3,
 "nbformat_minor": 0,
 "worksheets": [
  {
   "cells": [
    {
     "cell_type": "code",
     "collapsed": false,
     "input": [
      "import os\n",
      "\n",
      "prefix = '/home/share/projects/mlig_transcriptome/trinity/assembly_stranded/trinity/'\n",
      "components = open(prefix + 'component_base_listing.txt')\n",
      "reassembleFile = open('/home/share/projects/mlig_transcriptome/reassemble/reassembly.fasta','w')\n",
      "\n",
      "for line in components:\n",
      "    comp = line.strip().split()[0]\n",
      "    readsFile = open(prefix + '/'.join(line.strip().split()[-1].split('/')[-3:]) + '.graph.reads')\n",
      "    readsFile.next()\n",
      "    reads = [line.strip().split()[-2] for line in readsFile]\n",
      "    readsFile.close()\n",
      "    outFile = open('/home/share/projects/mlig_transcriptome/reassemble/reads.fa','w')\n",
      "    outFile.write('\\n'.join(['>seq.' + str(i) + '\\n' + read for i,read in enumerate(reads)]))\n",
      "    outFile.close()\n",
      "    \n",
      "    velveth = '/home/share/software/velvet/velveth /home/share/projects/mlig_transcriptome/reassemble/output 15 -short -fasta /home/share/projects/mlig_transcriptome/reassemble/reads.fa'\n",
      "    velvetg = '/home/share/software/velvet/velvetg /home/share/projects/mlig_transcriptome/reassemble/output -read_trkg yes'\n",
      "    oases = '/home/share/software/oases/oases /home/share/projects/mlig_transcriptome/reassemble/output'\n",
      "    \n",
      "    os.system(velveth)\n",
      "    os.system(velvetg)\n",
      "    os.system(oases)\n",
      "\n",
      "    count = 0\n",
      "    transcriptsFile = open('/home/share/projects/mlig_transcriptome/reassemble/output/transcripts.fa')\n",
      "    \n",
      "    for line in transcriptsFile:\n",
      "        if line[0] == '>':\n",
      "            reassembleFile.write('>c' + comp + '_' + str(count) + '\\t' + line[1:])\n",
      "            count += 1\n",
      "        else:\n",
      "            reassembleFile.write(line)\n",
      "            \n",
      "    transcriptsFile.close()\n",
      "    \n",
      "components.close()\n",
      "reassembleFile.close()\n"
     ],
     "language": "python",
     "metadata": {},
     "outputs": [],
     "prompt_number": 24
    },
    {
     "cell_type": "code",
     "collapsed": false,
     "input": [],
     "language": "python",
     "metadata": {},
     "outputs": []
    }
   ],
   "metadata": {}
  }
 ]
}