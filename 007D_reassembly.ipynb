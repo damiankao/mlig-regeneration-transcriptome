{
 "metadata": {
  "name": "",
  "signature": "sha256:7df35d230605b98419b5e86e5db6c1d609641c709e2f64312d66d3f296ff74c8"
 },
 "nbformat": 3,
 "nbformat_minor": 0,
 "worksheets": [
  {
   "cells": [
    {
     "cell_type": "markdown",
     "metadata": {},
     "source": [
      "find result -name \"transcripts.fa\" ! -size 0"
     ]
    },
    {
     "cell_type": "code",
     "collapsed": false,
     "input": [
      "import os\n",
      "\n",
      "prefix = '/home/share/projects/mlig_transcriptome/trinity/assembly_stranded/trinity/'\n",
      "components = open(prefix + 'component_base_listing.txt')\n",
      "\n",
      "folders = []\n",
      "comps = []\n",
      "for line in components:\n",
      "    comp = line.strip().split()[0]\n",
      "    binFolder = line.strip().split()[-1].split('/')[-2]\n",
      "    folders.append(binFolder)\n",
      "    path = prefix + '/'.join(line.strip().split()[-1].split('/')[-3:]) + '.graph.reads'\n",
      "    outPath = 'result/' + binFolder + '/c' + comp + '/c' + comp + '.reads.fasta'\n",
      "    comps.append((path,outPath,binFolder,comp))\n",
      "components.close()\n",
      "\n",
      "folders = list(set(folders))\n",
      "\n",
      "print 'mkdir result'\n",
      "for folder in folders:\n",
      "    print 'mkdir result/' + folder\n",
      "    \n",
      "for comp in comps:\n",
      "    print 'mkdir result/' + comp[2] + '/c' + comp[3]\n",
      "    print 'python convert.py ' + comp[0] + ' > ' + comp[1]"
     ],
     "language": "python",
     "metadata": {},
     "outputs": []
    },
    {
     "cell_type": "code",
     "collapsed": false,
     "input": [
      "import os,sys\n",
      "\n",
      "prefix = '/home/share/projects/mlig_transcriptome/trinity/assembly_stranded/trinity/'\n",
      "components = open(prefix + 'component_base_listing.txt')\n",
      "\n",
      "comps = []\n",
      "for line in components:\n",
      "    comp = line.strip().split()[0]\n",
      "    binFolder = line.strip().split()[-1].split('/')[-2]\n",
      "    path = prefix + '/'.join(line.strip().split()[-1].split('/')[-3:]) + '.graph.reads'\n",
      "    outPath = 'result/' + binFolder + '/c' + comp + '/c' + comp + '.reads.fasta'\n",
      "    comps.append((path,outPath,binFolder,comp))\n",
      "components.close()\n",
      "\n",
      "velveth = '/home/share/software/velvet/velveth __FOLDER__ 15 -short -fasta __READS__'\n",
      "velvetg = '/home/share/software/velvet/velvetg __FOLDER__ -read_trkg yes'\n",
      "oases = '/home/share/software/oases/oases __FOLDER__'\n",
      "\n",
      "if sys.argv[1] == 'velveth':\n",
      "    for comp in comps:\n",
      "        print velveth.replace('__FOLDER__','result/' + comp[2] + '/c' + comp[3]).replace('__READS__',comp[1])\n",
      "elif sys.argv[1] == 'velvetg':\n",
      "    for comp in comps:\n",
      "        print velvetg.replace('__FOLDER__','result/' + comp[2] + '/c' + comp[3])\n",
      "elif sys.argv[1] == 'oases':\n",
      "    for comp in comps:\n",
      "        print oases.replace('__FOLDER__','result/' + comp[2] + '/c' + comp[3])"
     ],
     "language": "python",
     "metadata": {},
     "outputs": []
    },
    {
     "cell_type": "code",
     "collapsed": false,
     "input": [
      "import sys\n",
      "\n",
      "inFile = open(sys.argv[1],'r')\n",
      "inFile.next()\n",
      "reads = [line.strip().split()[-2] for line in inFile]\n",
      "for i, read in enumerate(reads):\n",
      "    print '>read.' + str(i) \n",
      "    print read\n",
      "inFile.close()"
     ],
     "language": "python",
     "metadata": {},
     "outputs": []
    },
    {
     "cell_type": "code",
     "collapsed": false,
     "input": [
      "import sys\n",
      "\n",
      "paths = open(sys.argv[1],'r').read().strip().split()\n",
      "\n",
      "outFile = open(sys.argv[2],'w')\n",
      "for path in paths:\n",
      "    meta = path.split('/')\n",
      "    comp = meta[-2]\n",
      "    inFile = open(path)\n",
      "    count = 0\n",
      "    for line in inFile:\n",
      "        if line[0] == '>':\n",
      "            outFile.write('>' + comp + '_' + str(count) + '\\t' + line[1:])\n",
      "            count += 1\n",
      "        else:\n",
      "            outFile.write(line)\n",
      "    inFile.close()\n",
      "    \n",
      "outFile.close()"
     ],
     "language": "python",
     "metadata": {},
     "outputs": []
    }
   ],
   "metadata": {}
  }
 ]
}