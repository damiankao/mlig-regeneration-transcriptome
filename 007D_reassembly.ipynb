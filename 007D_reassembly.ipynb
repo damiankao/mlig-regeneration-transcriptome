{
 "metadata": {
  "name": "",
  "signature": "sha256:ade0badddbeff8c4052245dc81c202ef0790909ef606b5040e73a415dc82247f"
 },
 "nbformat": 3,
 "nbformat_minor": 0,
 "worksheets": [
  {
   "cells": [
    {
     "cell_type": "markdown",
     "metadata": {},
     "source": [
      "# Bundled reassembly\n",
      "\n",
      "Use Trinity's bundled reads and re-assemble with velvet + oases.\n",
      "\n",
      "This processe uses the Trinity `component_base_listing.txt` and `Component` folder.\n",
      "\n",
      " 1. Create a convert.py script for converting component read files into a fasta file.\n",
      " 2. Use the setup script on `component_base_listing.txt` to generate bash commands for setting up folders and read files.\n",
      " 3. Use the reassemble script to generate bash commands for velveth, velvetg, and oases for each bundle.\n",
      " 4. Run the following command to list the paths to all transcript files assembled\n",
      "        find result -name \"transcripts.fa\" ! -size 0 > transcripts.paths\n",
      " 5. Use the consolidate.py script to consolidate all the transcript files together\n"
     ]
    },
    {
     "cell_type": "code",
     "collapsed": false,
     "input": [
      "#import libraries and custom display libraries\n",
      "import os, sys, gzip, base64\n",
      "#import custom functions for displaying tables, bash commands\n",
      "sys.path.append(os.path.abspath(\"/home/damian/\"))\n",
      "from dk_ipython import *\n",
      "from IPython.display import HTML\n",
      "from collections import defaultdict"
     ],
     "language": "python",
     "metadata": {},
     "outputs": [],
     "prompt_number": 36
    },
    {
     "cell_type": "code",
     "collapsed": false,
     "input": [
      "HTML(textarea('convert.py script','''import sys\n",
      "\n",
      "inFile = open(sys.argv[1],'r')\n",
      "inFile.next()\n",
      "reads = [line.strip().split()[-2] for line in inFile]\n",
      "for i, read in enumerate(reads):\n",
      "    print '>read.' + str(i) \n",
      "    print read\n",
      "inFile.close()'''))"
     ],
     "language": "python",
     "metadata": {},
     "outputs": [
      {
       "html": [
        "<b>convert.py script</b>:<br>\n",
        "<textarea style=\"width: 1000px; height:200px\">\n",
        "import sys\n",
        "\n",
        "inFile = open(sys.argv[1],'r')\n",
        "inFile.next()\n",
        "reads = [line.strip().split()[-2] for line in inFile]\n",
        "for i, read in enumerate(reads):\n",
        "    print '>read.' + str(i) \n",
        "    print read\n",
        "inFile.close()\n",
        "</textarea>"
       ],
       "metadata": {},
       "output_type": "pyout",
       "prompt_number": 40,
       "text": [
        "<IPython.core.display.HTML at 0x3675750>"
       ]
      }
     ],
     "prompt_number": 40
    },
    {
     "cell_type": "code",
     "collapsed": false,
     "input": [
      "HTML(textarea('setup.py script','''import os\n",
      "\n",
      "prefix = '/home/share/projects/mlig_transcriptome/trinity/assembly_stranded/trinity/'\n",
      "components = open(prefix + 'component_base_listing.txt')\n",
      "\n",
      "folders = []\n",
      "comps = []\n",
      "for line in components:\n",
      "    comp = line.strip().split()[0]\n",
      "    binFolder = line.strip().split()[-1].split('/')[-2]\n",
      "    folders.append(binFolder)\n",
      "    path = prefix + '/'.join(line.strip().split()[-1].split('/')[-3:]) + '.graph.reads'\n",
      "    outPath = 'result/' + binFolder + '/c' + comp + '/c' + comp + '.reads.fasta'\n",
      "    comps.append((path,outPath,binFolder,comp))\n",
      "components.close()\n",
      "\n",
      "folders = list(set(folders))\n",
      "\n",
      "print 'mkdir result'\n",
      "for folder in folders:\n",
      "    print 'mkdir result/' + folder\n",
      "    \n",
      "for comp in comps:\n",
      "    print 'mkdir result/' + comp[2] + '/c' + comp[3]\n",
      "    print 'python convert.py ' + comp[0] + ' > ' + comp[1]'''))"
     ],
     "language": "python",
     "metadata": {},
     "outputs": [
      {
       "html": [
        "<b>setup.py script</b>:<br>\n",
        "<textarea style=\"width: 1000px; height:200px\">\n",
        "import os\n",
        "\n",
        "prefix = '/home/share/projects/mlig_transcriptome/trinity/assembly_stranded/trinity/'\n",
        "components = open(prefix + 'component_base_listing.txt')\n",
        "\n",
        "folders = []\n",
        "comps = []\n",
        "for line in components:\n",
        "    comp = line.strip().split()[0]\n",
        "    binFolder = line.strip().split()[-1].split('/')[-2]\n",
        "    folders.append(binFolder)\n",
        "    path = prefix + '/'.join(line.strip().split()[-1].split('/')[-3:]) + '.graph.reads'\n",
        "    outPath = 'result/' + binFolder + '/c' + comp + '/c' + comp + '.reads.fasta'\n",
        "    comps.append((path,outPath,binFolder,comp))\n",
        "components.close()\n",
        "\n",
        "folders = list(set(folders))\n",
        "\n",
        "print 'mkdir result'\n",
        "for folder in folders:\n",
        "    print 'mkdir result/' + folder\n",
        "    \n",
        "for comp in comps:\n",
        "    print 'mkdir result/' + comp[2] + '/c' + comp[3]\n",
        "    print 'python convert.py ' + comp[0] + ' > ' + comp[1]\n",
        "</textarea>"
       ],
       "metadata": {},
       "output_type": "pyout",
       "prompt_number": 38,
       "text": [
        "<IPython.core.display.HTML at 0x3675b10>"
       ]
      }
     ],
     "prompt_number": 38
    },
    {
     "cell_type": "code",
     "collapsed": false,
     "input": [
      "HTML(textarea('reassemble.py script','''import os,sys\n",
      "\n",
      "prefix = '/home/share/projects/mlig_transcriptome/trinity/assembly_stranded/trinity/'\n",
      "components = open(prefix + 'component_base_listing.txt')\n",
      "\n",
      "comps = []\n",
      "for line in components:\n",
      "    comp = line.strip().split()[0]\n",
      "    binFolder = line.strip().split()[-1].split('/')[-2]\n",
      "    path = prefix + '/'.join(line.strip().split()[-1].split('/')[-3:]) + '.graph.reads'\n",
      "    outPath = 'result/' + binFolder + '/c' + comp + '/c' + comp + '.reads.fasta'\n",
      "    comps.append((path,outPath,binFolder,comp))\n",
      "components.close()\n",
      "\n",
      "velveth = '/home/share/software/velvet/velveth __FOLDER__ 15 -short -fasta __READS__'\n",
      "velvetg = '/home/share/software/velvet/velvetg __FOLDER__ -read_trkg yes'\n",
      "oases = '/home/share/software/oases/oases __FOLDER__'\n",
      "\n",
      "if sys.argv[1] == 'velveth':\n",
      "    for comp in comps:\n",
      "        print velveth.replace('__FOLDER__','result/' + comp[2] + '/c' + comp[3]).replace('__READS__',comp[1])\n",
      "elif sys.argv[1] == 'velvetg':\n",
      "    for comp in comps:\n",
      "        print velvetg.replace('__FOLDER__','result/' + comp[2] + '/c' + comp[3])\n",
      "elif sys.argv[1] == 'oases':\n",
      "    for comp in comps:\n",
      "        print oases.replace('__FOLDER__','result/' + comp[2] + '/c' + comp[3])'''))"
     ],
     "language": "python",
     "metadata": {},
     "outputs": [
      {
       "html": [
        "<b>reassemble.py script</b>:<br>\n",
        "<textarea style=\"width: 1000px; height:200px\">\n",
        "import os,sys\n",
        "\n",
        "prefix = '/home/share/projects/mlig_transcriptome/trinity/assembly_stranded/trinity/'\n",
        "components = open(prefix + 'component_base_listing.txt')\n",
        "\n",
        "comps = []\n",
        "for line in components:\n",
        "    comp = line.strip().split()[0]\n",
        "    binFolder = line.strip().split()[-1].split('/')[-2]\n",
        "    path = prefix + '/'.join(line.strip().split()[-1].split('/')[-3:]) + '.graph.reads'\n",
        "    outPath = 'result/' + binFolder + '/c' + comp + '/c' + comp + '.reads.fasta'\n",
        "    comps.append((path,outPath,binFolder,comp))\n",
        "components.close()\n",
        "\n",
        "velveth = '/home/share/software/velvet/velveth __FOLDER__ 15 -short -fasta __READS__'\n",
        "velvetg = '/home/share/software/velvet/velvetg __FOLDER__ -read_trkg yes'\n",
        "oases = '/home/share/software/oases/oases __FOLDER__'\n",
        "\n",
        "if sys.argv[1] == 'velveth':\n",
        "    for comp in comps:\n",
        "        print velveth.replace('__FOLDER__','result/' + comp[2] + '/c' + comp[3]).replace('__READS__',comp[1])\n",
        "elif sys.argv[1] == 'velvetg':\n",
        "    for comp in comps:\n",
        "        print velvetg.replace('__FOLDER__','result/' + comp[2] + '/c' + comp[3])\n",
        "elif sys.argv[1] == 'oases':\n",
        "    for comp in comps:\n",
        "        print oases.replace('__FOLDER__','result/' + comp[2] + '/c' + comp[3])\n",
        "</textarea>"
       ],
       "metadata": {},
       "output_type": "pyout",
       "prompt_number": 41,
       "text": [
        "<IPython.core.display.HTML at 0x3675950>"
       ]
      }
     ],
     "prompt_number": 41
    },
    {
     "cell_type": "code",
     "collapsed": false,
     "input": [
      "HTML(textarea('consolidate.py script','''import sys\n",
      "\n",
      "paths = open(sys.argv[1],'r').read().strip().split()\n",
      "\n",
      "outFile = open(sys.argv[2],'w')\n",
      "for path in paths:\n",
      "    meta = path.split('/')\n",
      "    comp = meta[-2]\n",
      "    inFile = open(path)\n",
      "    count = 0\n",
      "    for line in inFile:\n",
      "        if line[0] == '>':\n",
      "            outFile.write('>' + comp + '_' + str(count) + '\\t' + line[1:])\n",
      "            count += 1\n",
      "        else:\n",
      "            outFile.write(line)\n",
      "    inFile.close()\n",
      "    \n",
      "outFile.close()'''))"
     ],
     "language": "python",
     "metadata": {},
     "outputs": [
      {
       "html": [
        "<b>consolidate.py script</b>:<br>\n",
        "<textarea style=\"width: 1000px; height:200px\">\n",
        "import sys\n",
        "\n",
        "paths = open(sys.argv[1],'r').read().strip().split()\n",
        "\n",
        "outFile = open(sys.argv[2],'w')\n",
        "for path in paths:\n",
        "    meta = path.split('/')\n",
        "    comp = meta[-2]\n",
        "    inFile = open(path)\n",
        "    count = 0\n",
        "    for line in inFile:\n",
        "        if line[0] == '>':\n",
        "            outFile.write('>' + comp + '_' + str(count) + '\t' + line[1:])\n",
        "            count += 1\n",
        "        else:\n",
        "            outFile.write(line)\n",
        "    inFile.close()\n",
        "    \n",
        "outFile.close()\n",
        "</textarea>"
       ],
       "metadata": {},
       "output_type": "pyout",
       "prompt_number": 43,
       "text": [
        "<IPython.core.display.HTML at 0x35c6dd0>"
       ]
      }
     ],
     "prompt_number": 43
    }
   ],
   "metadata": {}
  }
 ]
}