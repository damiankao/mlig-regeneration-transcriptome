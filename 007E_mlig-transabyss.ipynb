{
 "metadata": {
  "name": "",
  "signature": "sha256:ff52cf3d0d62637a0975cdc71bd2affed79e7384b5f0f97e298906846b597e92"
 },
 "nbformat": 3,
 "nbformat_minor": 0,
 "worksheets": [
  {
   "cells": [
    {
     "cell_type": "markdown",
     "metadata": {},
     "source": [
      "    transabyss --SS --pe /mlig_raw/processed/left.stranded.fastq /mlig_raw/processed/right.stranded.fastq --outdir /mlig_working/ --name k25 --threads 32 -k 25"
     ]
    },
    {
     "cell_type": "code",
     "collapsed": false,
     "input": [
      "for i in range(25,61,5):\n",
      "    print 'transabyss --SS --pe /mlig_raw/processed/left.stranded.fastq /mlig_raw/processed/right.stranded.fastq --outdir /mlig_working/ --name k__K__ --threads 32 -k __K__'.replace('__K__',str(i))"
     ],
     "language": "python",
     "metadata": {},
     "outputs": [
      {
       "output_type": "stream",
       "stream": "stdout",
       "text": [
        "transabyss --SS --pe /mlig_raw/processed/left.stranded.fastq /mlig_raw/processed/right.stranded.fastq --outdir /mlig_working/ --name k25 --threads 32 -k 25\n",
        "transabyss --SS --pe /mlig_raw/processed/left.stranded.fastq /mlig_raw/processed/right.stranded.fastq --outdir /mlig_working/ --name k30 --threads 32 -k 30\n",
        "transabyss --SS --pe /mlig_raw/processed/left.stranded.fastq /mlig_raw/processed/right.stranded.fastq --outdir /mlig_working/ --name k35 --threads 32 -k 35\n",
        "transabyss --SS --pe /mlig_raw/processed/left.stranded.fastq /mlig_raw/processed/right.stranded.fastq --outdir /mlig_working/ --name k40 --threads 32 -k 40\n",
        "transabyss --SS --pe /mlig_raw/processed/left.stranded.fastq /mlig_raw/processed/right.stranded.fastq --outdir /mlig_working/ --name k45 --threads 32 -k 45\n",
        "transabyss --SS --pe /mlig_raw/processed/left.stranded.fastq /mlig_raw/processed/right.stranded.fastq --outdir /mlig_working/ --name k50 --threads 32 -k 50\n",
        "transabyss --SS --pe /mlig_raw/processed/left.stranded.fastq /mlig_raw/processed/right.stranded.fastq --outdir /mlig_working/ --name k55 --threads 32 -k 55\n",
        "transabyss --SS --pe /mlig_raw/processed/left.stranded.fastq /mlig_raw/processed/right.stranded.fastq --outdir /mlig_working/ --name k60 --threads 32 -k 60\n"
       ]
      }
     ],
     "prompt_number": 3
    },
    {
     "cell_type": "code",
     "collapsed": false,
     "input": [],
     "language": "python",
     "metadata": {},
     "outputs": []
    }
   ],
   "metadata": {}
  }
 ]
}